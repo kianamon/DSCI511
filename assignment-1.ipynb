{
 "cells": [
  {
   "cell_type": "markdown",
   "metadata": {},
   "source": [
    "# Assignment 1\n",
    "\n",
    "## Problem A (25 points)\n",
    "\n",
    "__A1.__ In this problem, you will be working with the [Seinfeld Chronicles dataset](https://www.kaggle.com/thec03u5/seinfeld-chronicles). Create an account on [Kaggle](https://www.kaggle.com) and download the `scripts.csv` file from the dataset and move it into the `data` directory. Read the `data/scripts.csv` file as a text file line-by-line and examine the list you have loaded the data into. (3 points)"
   ]
  },
  {
   "cell_type": "markdown",
   "metadata": {},
   "source": [
    "Here, we read the file line by line and examine the first 7 lines:"
   ]
  },
  {
   "cell_type": "code",
   "execution_count": 46,
   "metadata": {},
   "outputs": [
    {
     "data": {
      "text/plain": [
       "[',Character,Dialogue,EpisodeNo,SEID,Season',\n",
       " '0,JERRY,\"Do you know what this is all about? Do you know, why were here? To be out, this is out...and out is one of the single most enjoyable experiences of life. People...did you ever hear people talking about We should go out? This is what theyre talking about...this whole thing, were all out now, no one is home. Not one person here is home, were all out! There are people tryin to find us, they dont know where we are. (on an imaginary phone) Did you ring?, I cant find him. Where did he go? He didnt tell me where he was going. He must have gone out. You wanna go out you get ready, you pick out the clothes, right? You take the shower, you get all ready, get the cash, get your friends, the car, the spot, the reservation...Then youre standing around, whatta you do? You go We gotta be getting back. Once youre out, you wanna get back! You wanna go to sleep, you wanna get up, you wanna go out again tomorrow, right? Where ever you are in life, its my feeling, youve gotta go.\",1.0,S01E01,1.0',\n",
       " '1,JERRY,\"(pointing at Georges shirt) See, to me, that button is in the worst possible spot. The second button literally makes or breaks the shirt, look at it. Its too high! Its in no-mans-land. You look like you live with your mother.\",1.0,S01E01,1.0',\n",
       " '2,GEORGE,Are you through?,1.0,S01E01,1.0',\n",
       " '3,JERRY,\"You do of course try on, when you buy?\",1.0,S01E01,1.0',\n",
       " '4,GEORGE,\"Yes, it was purple, I liked it, I dont actually recall considering the buttons.\",1.0,S01E01,1.0',\n",
       " '5,JERRY,\"Oh, you dont recall?\",1.0,S01E01,1.0',\n",
       " '6,GEORGE,\"(on an imaginary microphone) Uh, no, not at this time.\",1.0,S01E01,1.0']"
      ]
     },
     "execution_count": 46,
     "metadata": {},
     "output_type": "execute_result"
    }
   ],
   "source": [
    "with open(\"/Users/Kianamon/Dropbox/DSCI511/Assignments/assignment-1/data/scripts.csv\", \"r\") as f:\n",
    "    content1 = f.readlines()\n",
    "content1 = [x.strip() for x in content1]\n",
    "type(content1)\n",
    "content1[0:8]"
   ]
  },
  {
   "cell_type": "markdown",
   "metadata": {},
   "source": [
    "__A2.__ Is it possible to work with this data, simply splitting by a delimiter? Explain any complexity in the data's structured format that necessitates an established format-specific file reader. (2 points)"
   ]
  },
  {
   "cell_type": "markdown",
   "metadata": {},
   "source": [
    "This data is formated as a list. The elements of the list are seperated with commas. In order to start working with this data we need and structured dataframe which consists of rows and columns. All the columns should be of a certain data type. For example, splitting by a delimiter(comma) will lead to splitting the text itself at the comma points, which was not intended. Also, season ID is redundant since episode number and season number columns are existant. Additionally, all the info in one line counts as one single element of the list which we need to seperate into various columns in order to clean the data. "
   ]
  },
  {
   "cell_type": "markdown",
   "metadata": {},
   "source": [
    "__A3.__ Use the `csv` module to read the contents of the `data/scripts.csv` file into a list. Examine this list. How many unique speaking characters are present in the scripts in total? (5 points)"
   ]
  },
  {
   "cell_type": "code",
   "execution_count": 56,
   "metadata": {},
   "outputs": [
    {
     "name": "stdout",
     "output_type": "stream",
     "text": [
      "1640\n",
      "{'MARTY (looking at the locket)', 'RICKY', 'BARTENDER', 'Newscaster', \"MERYL (feels Jerry's material)\", 'KRAMER (impressed)', 'OLIVE', 'PRISONER 3', 'VOIGHT', 'PHOTOGRAPHER', 'KLEIN', 'ASSISTANT', '(IMG SRC=http', 'TV', 'JERRY (using Elaine as an example)', 'DOLL', 'OLDER WOMAN', \"(The two have that uncomfortable politeness that only comes about when you're down to the last piece of pizza. Jerry breaks the silence\", 'SANDRA', 'EULOGIST', 'VOICE FROM POKER GAME', 'CLARE', \"GEORGE (noticing Jerry's suitcase)\", 'OLDER MAN', 'WALKER #3', 'OWNER', 'FRIEND 1', 'Babu Bhatt', 'ELAINE (absolutely disgusted)', 'JERRY & ELAINE', 'THEATER MANAGER', 'HOLLY', 'WOMAN AT YET ANOTHER TABLE (to her date)', '[Leaving the Gentle Touch Car Wash', 'GENE', 'MAN IN NEIGHBORING BED', 'COP #2', 'LAB TECHNICIAN', 'DEENA', 'NEWMAN and KRAMER', 'GREENY', 'MAN #2', 'NEIL', 'POLICEMAN', 'BARRY', 'INTERPRETER', 'CORINNE', 'PHONE', 'POP', '[New Witness', 'POLICE', 'MR. LIPPMAN', 'JOYCE', 'ELAINE (singing)', 'COP', 'DENNIS', 'The definition of \\x93Sari\\x94 or \\x93Saree\\x94 is', 'JERRY (V.O.)', 'SETH', 'MODEL #4', 'TEACHER', 'JERRY', 'ELAINE (laughs)', 'FATHER CURTIS', 'PASSERBY', 'PAUL - Locker room Attendant #1', 'JERRY(MIND)', 'MANAGER', 'MOVIE PATRON', 'SLIPPERY PETE', 'POSTMASTER GENERAL', 'CLERK', 'RUSSELL', 'LEVITAN', 'SPIKE', 'ZUBIN', 'JACKIE ', '[At JERRY', 'PETERMAN (holding up a bra)', 'AUDIENCE', 'GEORGE (comes out of the bathroom brushing his teeth)', 'JERY', 'CEDRIC', 'STRANGER', 'Banker', 'LAURA', 'FATHER', 'TIM (to Jerry)', 'JERRY & KRAMER', 'STAN (out of breath)', 'RALPH', 'HOMELESS MAN', 'HOSPITAL VOICEOVER', 'DANNY TARTABULL', 'JERRY (sees a white couch by the wall)', 'MICKEY', 'DR. COOPERMAN', 'GEORGE (sniffling)', 'JERRY AND NEWMAN', 'TENANT 1', 'MAESTRO AND ELAINE (Simultaneously)', 'BRADY', \"Jerry's stand-up\", 'JERRY (patiently while watching tv)', 'KRAMER (to Jerry)', '% Apparently, a movie that can be interpreted on two levels. Misunderstanding number two', 'AL ROKER', \"RUSSELL (not noticing Elaine's cleavage)\", 'JACKIE (impressed)', 'MOLLIKA', 'SUBWAY ANNOUNCEMENT', 'GEORGE (apologetic)', 'PITT (pulling up the socks)', 'PRISONER', 'MELISSA', 'HOSTESS', 'TARTBULL', 'CAROL', 'AMANDA', 'YOUNG COP', 'KID', 'JERRY & COP', 'ELAINE (to Carl)', 'ALICIA', 'BECK', 'TAXI DRIVER', 'KRAMER & JOEY', 'JERRY (pointing at the trophy)', 'USHER', \"WOMAN'S VOICE ON THE PHONE\", \"ELAINE's brain\", 'WORKER (singing)', 'MRS.ARM', 'PAMELA', 'POKER PLAYER #3', 'BENES', 'STUDENT #2', 'MR STAR', 'MRS WILHELM (O.C.)', 'TOM', 'GAIL (to Elaine)', 'KRAMER (excited)', 'RIVERA', 'BUSINESS MAN', 'GEORGE (close to tears)', 'JERRY AND ELAINE (together)', '[At the entrance of the church. There is a sign there. It reads', 'MR. ARM', 'PETERMAN (singing)', 'MARTY', 'ELAINE (looks at Jerry and smears lipstick across her face)', 'Sponer', 'MAN IN AUDIENCE', 'NEPHEW', 'CYNTHIA', 'DWAYNE', 'SIDRA', 'JERRY (noticing something across the coffee shop)', \"SAM'S VOICE\", 'JERRY AND JOEL', 'KRAMER (points to his head)', 'JERRY AND KRAMER', 'JAY LENO', 'FULTON', 'THE FREAK', \"GEORGE (notices Russell's lunch)\", 'CRESPI', 'MARIAN (turning, surprised)', 'CLAIRE', 'KRAMER (into phone)', '[The Intervention [NOTE', 'KRAMER (talks rapidly in an attempt to keep up with Newman)', 'NEWMAN (satisfied)', 'CLERK\\x92S VOICE (off camera)', 'LIZ', 'JERRY&ELAINE', 'MAN #1 ', 'ELAINE (to Poppie)', 'JACKIE', 'HIPPIE #2', 'NARRATOR', 'POPPIE (opening the gift basket)', 'GEORGE (to Elaine, in a somber tone)', 'HAARWOOD', 'TIERNEY', \"LANDIS'S INTERCOM\", '(ELAINE decides to make herself at home, opens the refrigerator and starts eating olives out of a jar, with her fingers. In the living room area, KEVIN is looking at her. Note', 'HENRY', 'MANDEL', 'HELENA', '(Not that that approach was going to work, or anything, but what minute chance they had of convincing her is blown away as the door bursts open and', 'MRS. C', 'WORKER', 'KRAMER (goes out on the terrace to look, and slips in the water)', 'SANDOS BROTHER 2', 'DOORMAN', '(knock on door', 'MERYL (looking for the can opener)', 'BUSINESSMAN', 'DUSTIN', 'WILLIE SR', 'MR. STEINBRENNER', 'ANSWERING MACHINE', 'JOE (passes George a bowl)', \"We gotta go! It's 8\", 'LLOYD', 'LOIS', 'MAN IN SHOWER', 'BUCKLES', 'JOE DEVOLA', 'PITT (hands the phone to Elaine)', 'JERRY (proudly)', 'POSTMAN', 'EMILY', 'DR. DEMBROW', 'ANGELA', 'NOREEN', 'ELAINE (to George)', 'MAN 1', 'GINO', 'JULIANNA (releasing her child)', 'CAR WASHER', 'http', 'PHONE TAPE', 'BRUCE', 'EDDIT', \"GEORGE'S VOICE\", '(George shows his note-block to Jerry; it says very largely', 'Frank (picking up his shoes)', 'JOHNNY', 'MAN #1', 'ETHAN', 'MAN', 'POSTAL WORKER', 'ELAINE/DAVOLA', 'KRAMER', 'JOAN', 'LORETTA', 'DUSTIN - Locker room Attendant #2', 'RICHIE', \"JERRY (attempting to carry on despite Toby's interruptions)\", 'MRS. ENRIGHT', 'GAIL (hands a plate to another chef)', 'MRS. CHOATE', 'SIDRA (amused)', \"JERRY'S ANSWERING MACHINE\", 'RON', 'MR. CUSHMAN', 'MONICA', 'GUY ON PHONE', 'MR. TUTTLE', 'CINDY', 'RAVA', 'JERRY (copying it down and grinning)', '(again, from the movie we hear this dialogue', 'ELAINE (modest)', 'JERRY (to Pam)', 'ELECTRICIAN', 'Genderson', 'ELAINE (in a southern accent)', 'RADIO ANNOUNCER', 'JERRY (to George)', 'WALKER #2', \"JERRY (comes out of the bedroom with Poppie's money)\", 'MAN #', 'NANA', 'RABBI', 'ROBIN (to George)', 'MAN3', 'FRED', 'HEATHER', 'CLOTWORTHY', 'SALESMAN', 'RECEPTIONIST', 'LOTUS', 'ALEX', 'CARL (hands Jerry an invoice)', 'KRAMER (from hallway)', 'MARIE', 'JERRY (turning to leave)', 'HAIRDRESSER', 'WOMAN AT ANOTHER TABLE', 'KIM', 'FATHER-PRIEST 2', 'FAN', 'Newman', 'COUNTER WOMAN', 'JERRY (to George, hugs Kramer happily)', \"JERRY'S PENIS\", 'READER', 'ELAINE and KRAMER', 'GRANDPA (to Anna)', 'LIBRARIAN', 'WENDY', 'WINONA', 'RITA', 'VINCENT (O.C.)', 'JAY', 'SOPHIE', 'DR. RESNICK', 'CLEANING WOMAN', 'Opening Monolog', 'DENIM VEST', 'Frank and ESTELLE', 'GAVIN', 'RUSSELL (from bathroom)', 'RADIO', 'NEWMAN', 'TV VOICE', 'ELAINE (irritated, imitates Gail)', 'JERRY ', 'REGIS', 'GEORGE (sadly)', 'DETECTIVE #2', 'PHILBIN', 'WILCOX', 'MAN#2', 'JOE', 'EXECUTIVE 2', 'HALLIE', 'ROBERTA', 'KRAMER (frantic)', 'GLADYS', 'HOMELESS MAN 2', 'VIC', 'Mr. VISAKI', 'ALL THREE', 'IZZY & IZZY JR.', 'WORKERS (singing)', 'ALLISON', 'PASSENGER 2', 'RUSTY', \"JERRY'S brain\", 'STREET TOUGH', 'ALISON', 'MARLA', 'JOANNE', 'SHOWALTER', 'CAROL (shows Elaine and the girls pictures of Adam)', 'OTHER SECURITY GUARD', 'HOYT', 'HEAD', 'BECKY', 'MR. PLESS', 'HOT DOG VENDOR', 'CORBIN BERNSEN', 'ALL (singing, competing)', 'KRMAER', 'KRAMER (happily)', 'FLIGHT ATTENDANT', 'GEORGE (to Lupe)', 'JANE', 'DEAN JONES', 'MAR', 'MEMBER 1', 'RUTHIE', 'DRY CLEANE', 'KRAMER (nods)', 'LANDIS', 'HAFFLER', 'Boysenberry', 'JERRY & TIA', 'MR. PITT (overjoyed)', 'MATTHEW', 'TOBY (laughing)', 'KRAMER (nervously)', 'MARYEDITH', 'MAN #3', 'CARRERAS', 'SHEILA', 'Phil', '(The show begins. There are three different settings while the show is on TV. Each line or description will be preceded by the right setting', 'HEALTH INSPECTOR', 'DAN', 'KRAMER (realizing)', 'POPPIE', 'Nana', 'MARCELINO (impressed)', 'DETECTIVE #2 (to Kurt)', 'GEORGE & KRAMER', 'TIM', 'Mrs. SWEEDLER', 'VOICE 1 (O.C.)', 'EVA', 'C.K.', 'SAILOR', 'STATIONER', 'JENNA (O.C.)', 'VALERIE', 'IAN', 'AUDREY', 'EVELYN', 'SUSAN', 'MR. ABBOTT', 'Hx', 'TOBY (serious)', 'MERYL (getting up)', 'VOICE', 'Song over the end credits', 'MR YAMAGUCHI', 'RICARDI', 'MORTY', 'AL', 'GEORGE (nervously)', 'MR. MORGAN', 'STEFANIE', '(MUSIC (Sheena Easton\\'s \"Morning Train (Nine to Five)\") accompanies assorted shots of working-man Kramer', 'BETSY', 'JERRY (getting out of bed)', 'so far', 'JACKIE (to Kramer and Stan)', 'JENNA', 'GREG (hands the bottle back)', '[At the restaurant! GEORGE', 'JERRY, MORTY AND HELEN', 'GEORGE (writing on a notepad)', 'STEVEN', 'ELAINE (humoring her)', 'NURSE (O.C.)', 'CANDICE BERGEN', '[setting', 'ALTON', 'KATY', 'KRAMER (in a perfectly normal tone of voice)', 'WAITER', '[Street', 'PATIENT', 'REMY', 'MAXWELL', 'SAM', 'JERRY (mimics smoking an \"after sex cigarette\")', 'MEMBER 2', 'Definitions of several items in the Chicken Roaster episode', 'MAN4', 'TV JERRY', 'BETH', \"KRAMER (points at Jerry like he's found him out)\", 'ELAINE (amused)', 'CAPTAIN', 'KRAMER (from his doorway)', 'RHISA', 'DARRYL', \"BABU'S FRIEND\", 'ROBERT', 'LISA', 'KATIE', 'PEOPLE AT TABLE', '(Movie Voice', 'OTHER GUY', 'MOVIE PHONE GUY', 'BARBARA', 'SILVIO', 'PASSENGER #1', 'COP #1', 'ESTELLE (smiling)', 'TENANT 2', 'I always feel bad for the silver medal winner in the Olympics. How do you live with that the rest of your life? People are gonna keep asking', '(You can make out the albums pretty clearly. One is an apparent K-Tel \"classic\"', 'JOY MAYO', 'GUAD', 'COCO', 'ELAINE AND JERRY', 'SOUP NAZI', 'NED', 'BUBBLE BOY', 'FARKUS', 'STOCK BOY', 'MAID', 'IZZY SR.', 'BRODY', 'JULIO', 'POLICE OFFICER', 'ELAINE/WENDY', 'ROGER', 'RUSSELL (angrily)', 'MAN 3', 'MACHINE (KRAMER)', 'RONNIE (points to his nose)', \"KRAMER (shouting over the cycle's engine)\", 'UNCLE LEO', 'SALESWOMAN', 'WINONA (O.C.)', 'DAVOLA (O.C.)', 'DUGAN', '(Everyone sits around the table. Kruger recognized Kramer from \"The Meat Slicer\" episode..) KRUGER', 'KERI', 'GIRL (NOT WINONA)', 'Notice', 'MARY ANNE', 'SOME GUY', 'SeConrad', 'BRYANT', '\"SALMAN\" (shakes Kramer\\'s hand)', 'DEENSFREI', 'KRAMER (to organizer at desk)', 'VICTORIA', 'UKRAINIAN', 'DANA (unenthusiastic)', 'MAN BEHIND THE DOOR', 'EGO', 'Women (talks to man next to her)', 'SPONSOR', \"MAITRE D'\", 'RESTON (O.C.)', 'JERRY (looking at the puddle with Kramer)', 'Dugan', 'SECRETARY', 'JERRY, GEORGE & KRAMER', 'KARL', \"JERRY (to Meryl, who's making a racket in the kitchen looking for the can opener)\", 'DONNA', 'JERRY (doubtfully)', 'ANNOUNCEMENT', 'JERRY (sits down)', 'MR TANAKA', 'ALL FOUR MEN', 'EMPLOYEE', 'CHILES', 'MR. PETERMAN', 'CUSTOMER', 'TINA', 'SIDRA (to her friend)', 'REPORTER', 'GEORGE ', 'PROSTITUTE', 'NEWMAN AND KRAMER', 'ABBY', 'HORST', \"ELAINE'S VOICE\", 'JERRY (copying down the number)', 'JERRY & George', 'Off stage', 'Wx', 'SON', 'VOICE ON THE PHONE', 'GEORGE (voice is hoarse from screaming)', '(** Footnote', 'ELAINE (getting up to leave)', '[Scene', 'STEVE', 'MUSIC GUY', '[Opening Scene', 'KRAMER (angrily, to Jerry)', 'JERRY and ELAINE', 'ELAINE (standing in the doorway)', 'CLAYTON', 'GEORGE (pulls over)', 'CONNIE', 'ELAINE (turning on George)', 'KRAMER (puts the dough on the counter)', 'JERRY (points)', 'ROY', 'DR. WEXLER', 'GEORGE WENDT', 'CHERYL', 'GEORGE (unimpressed)', 'JERRY (to Farfel)', 'CHOATE', 'GEORGE (whistles to guy on phone)', 'MRS. ZANFINO', 'MORTY (to Jerry)', 'MAN2', 'ARONSON', \"The female orgasm is kinda like the bat cave, very few people know where it is and if you're lucky enough to see it you probably don't know how you got there and you can't find you way back after you left. There are two types of female orgasms\", 'GEORGE (overjoyed to find out)', 'GEORGE (to Kramer)', 'MR. GREEN', 'MODEL #2', 'ELAINE ', 'KRAMER (in hallway)', 'SHELLY', 'RUBY', 'BOY', 'MODEL #1', 'GEORGE (yelling at her)', 'MRS. PETERMAN', 'JERRY (shuts the car door)', 'MAILMAN', 'FELDMAN', 'EARL', 'POKER PLAYER #4', 'DOCTER', 'NUN', 'MERYL (not finding the opener)', 'MR. PITT (impatiently)', 'BLAINE', 'MAHJONG LADY', 'COWORKER', 'STUDENT #1', 'JERRY (to Kramer)', 'WOMAN AT PHONE', 'MORGAN', 'CLAIE', 'ORDERLY', 'Character', 'FRANK (from the answering machine)', 'GEORGE & JERRY', 'ELAINE (angrily)', 'ALAN', '(Kramer rolls over to go to sleep. The bedside clock reads 12', 'ISAAC', 'PINTER', 'NICK', 'BABS', 'UNCLE MAC', 'I am not gay. I am, however, thin, single and neat. Sometimes when someone is thin, single and neat people assume they are gay because that is a stereotype. They normally don\\'t think of gay people as fat, sloppy and married. Although I\\'m sure there are, I don\\'t want to perpetuate the stereotype. I\\'m sure they are the minority though within the gay community. They\\'re probably discriminated against because of that, people say to them \"Y\\'know Joe, I enjoy being gay with you but I think think it\\'s about time, y\\'know that you got in shape, tucked the shirt in and lost the wife\". But if people are even going to assume that people that are neat are gay, maybe instead of doin\\' this', 'JERRY (indifferent)', 'JERRY (making fun)', '[ACT ONE SCENE A INT. ESCALATOR - GOING DOWN TO A GARAGE. IN SINGLE FILE', '(Elaine is robbed of her peek into the first class section by a drawn curtain and she goes to her seat. However, someone comes after her and', 'BILLY', 'STEWARDESS', 'FRANKIE', 'CASHIER', 'JERRY & GEORGE', 'KRAMER (scanning a menu)', 'GEORGE (grabs the M&M away from Jerry)', 'POKER PLAYER #2', 'KRAMER (moving back to the othe side of the booth)', 'GEORGE (suddenly interested)', 'KRAMER (singing)', \"(meanwhile Kramer is climbing over the dugout retrieve George's cap... the camera cuts to the field where the batter hits a pop fly to where Kramer is\", \"JERRY (clearly creeped out by having to shake Poppie's hand)\", 'UMPIRE', 'CROWD', 'LUBECK', \"Micheal, Sandi, and Tom, and finally Jerry, and the four of them make a toast while it's written\", 'MR. ELINOFF', 'SHARON', 'KRAMER/Turkey', 'ESTELLE', 'ELAINE (V.O.)', 'POLICE RADIO', 'REMY (to Joe)', 'BYSTANDER #1', 'TOR', 'FATHER HERNANDEZ', 'VOICE ON INTERCOM', 'ELAINE (putting on lipstick)', 'MALCOLM', 'BABU', 'DUNCAN', 'JERRY (standing)', 'SPEAKER', 'DONNA ', 'SHERRY', 'KRAMER (comes back inside with his finger pointed at Jerry)', 'REPORTERS', 'GEORGE (chuckles)', 'LOUISE', 'GEORGE (tosses the condom aside)', 'GAIL (impressed)', \"KRAMER (points at Elaine's feet)\", 'KURT', 'HANKE', 'KIDS & KRAMER', 'PAULA (to Marty, in a foreign accent)', '(Alison though phone)', 'TUTTLE', 'ANNOUNCER ON TV', 'MR. PITT (O.C.)', 'GEORGE (beaming)', 'CLERK 2', 'SANDOS BROTHER 1', \"RICKY'S BOSS\", 'HEAD (O.C.)', \"ROBIN'S MOTHER\", 'JERRY, GEORGE, & KRAMER', 'ASSISTANT DRESSER', 'TOBY (loudly)', '(Jerry is about *this* close (picture my thumb and forefinger *really* close together) to figuring out what is going on here, when the \"question fatale\" is asked', 'NURSE 1', 'Performed by', \"PITT (clearly affected by Elaine's appearance)\", 'TONY (O.S.)', 'FOREMAN', 'ELAINE (to Jerry, imitating Carol)', 'KRAMER & JERRY', 'LETTERMAN', 'KESSLER', 'HUSBAND', 'CHAUFFEUR', 'HEYMAN', '(Jerry wakes up with the sunlight. Looks at the electric clock, which stopped at 4', 'OFFICER', 'STUDENT 3', 'MRS ALLISTER (O.C.)', 'ELAINE (excited)', 'MONA', 'FAN #1', 'INTERVIEWER', 'RUDY', 'STACEY', \"BOSS' WIFE\", 'Man', 'Check #1246, dated Dec. 15 \\x9196, Made out to', 'HIPPIE #1', \"BABU'S BROTHER\", 'Stu', 'DEBBY', 'RENTAL CAR AGENT', 'ELAINE (signing)', 'FEMALE WORKER', 'JERRY (from inside the bathroom)', \"STAGE HAND (Larry David's voice)\", \"GEORGE (looking at Kramer's arm)\", 'NEWMAN (V.O.)', 'GEORGE (nudges Elaine with his elbow)', '(Two clocks at a table, both 4', '(Elaine peels out and turns on the car stereo. She hears', 'PATTY', 'Receptionist', 'LT. COLEMAN', 'VIOLIN PLAYER', 'WALTER', '(Elaine tries to push her alarm clock showing 3', 'GEORGE (attempting to make a move)', '[5A. Kramer and Newman are making sausages. Tape recorder plays Jackie Davis', 'SIENA', 'MARIE (describing Holly Go-Lightly in \"Breakfast At Tiffany\\'s\")', 'GEORGE (to the EMTs)', 'RAQUEL', 'GLENN', 'STUDIO GUARD', 'VOICE (O.C.)', 'GEORGE (immediately, to Elaine)', '[Yankee Stadium', 'ALL (singing)', 'BOOKMAN', 'GOERGE', '(At the same time--DONNA', 'AMY', 'TIM (picks up a bowl of nuts)', 'MAURA', 'MARIO', 'ED', '(Scene', 'NEWS', 'MR. BEVILACQUA', 'WATKINS', 'WENDY (O.C.)', '(Helen turns to Jerry and makes a face like', 'KAREN', 'JERRY (looking through some papers on the desk)', 'GEORGE (solemnly)', 'MAN ON THE STREET', '[location', 'MR.THOMASSOULO', 'MARIAN', 'AUCTIONEER', \"JERRY's brain\", 'ELAINE (yelling)', 'AENT', 'JERR', 'CARL', 'CHARLIE', 'PHIL', 'ROBIN', 'DJ ON RADIO', 'HOLE DIGGER #2', 'James', 'TAWNI', 'PLAYER (O.C.)', 'Mrs. SANGER', 'CRAIG', 'TANNOY (V.O.)', 'MAESTRO', 'Driver', \"LEAPIN' LARRY\", 'BILL', 'DIRECTOR', 'BYSTANDER #2', 'GEORGE (laughing)', 'DR. ALLENWOOD', 'PETE', 'ELAINE (to Jerry)', 'GLENDA', 'Another man', 'GAIL (to Jerry)', 'MAN 4', 'MARLENE', 'GEROGE', '[Elaine is on the phone and the radio plays music very loud (Iron Butterfly', '[The Bodega, starts with a shot of Marcelino\\'s cash register with Jerry\\'s clown check attached under a sign that reads \"checks no longer accepted from', \"Elaine (thinking it's Dan)\", 'GAIL', 'CONTEST WINNER', 'MECHANIC', 'SIDRA (stepping off)', \"GEORGE (examining Kurt's head with a lamp)\", 'BOMB COP', 'ELAINE (to Russell)', 'FEMALE CUSTOMER', 'KRAMER (from bathroom)', 'KRAMER (shows Jerry his outfit)', 'HAL', 'TICKET MAN', 'MELANIE', '(Kruger leaves and George notices a photograph on the table', 'LIPPMAN', 'STEIN', 'HELEN (V.O)', 'DORIS', 'JUDGE (banging his gavel)', 'CHARLES', 'JERRY & JEANNIE', 'HILDE', 'ELAINE (stands up)', 'SALLY', 'CASTING DIRECTOR', 'MARION', 'LEW', \"[Poppie's Restaurant\", \"JERRY (wipes Kramer's brow)\", 'MAN#1', 'VEGETABLE LASAGNA', 'DAPHNE', 'DETECTIVE', 'LORRAINE', 'WILTON', 'GEORGE', 'SCOTT', 'KRAMER (approvingly)', 'DONALD', 'RENE', 'MAN #4', 'TV ANNOUNCER', \"ELAINE (put off by Toby's exuberance)\", 'LT. MARTEL', 'LENA (to waiter)', 'MARK', 'YELLING GUY', 'BAILIFF', \"O'NEILL\", 'STEINBRENNER (shocked)', 'PRISONER 2', 'STAGEHAND', 'ELAINE (uninterested)', 'ALLBRIGHT (O.C.)', 'GEORGE (boasting)', 'JERRY (sarcastic)', 'SUPER', 'JERRY (opens the envelope)', 'ANNA', 'CONRAD', 'Elaine (hanging up)', 'VOGEL', 'ORGANIZER', 'Elaine thinking', 'MOTHER', 'GEORGE (holds up one finger)', 'BUXOM WOMAN', '(once again, from the movie we hear this dialogue', 'ELANE', 'JAMES', 'PAT HAZELL', 'MARRY', 'MACHINE', 'WAITRESS', 'JERRY (O.C.)', 'HOOKER', 'GROUP', 'ATTENDANT', 'GEORGE (thinking)', \"JERRY'S BRAIN\", 'ELAINE (O.C.)', 'JERRY (hoping Leo will pick up on the scam)', 'KRAMER (shows Jerry his winnings)', 'HERB', 'RESTON', 'SHELLBACH', 'BANIA', 'JERRY AND GEORGE', 'JERRY (slams the drawer)', 'ELAINE (flirtatiously)', 'REBECCA', 'NEWMAN (sweating)', 'PENNY', '(Alison through phone)', 'GILLIAN', 'WELLS', 'KRAMER (breaking into tears)', '(from the movie we hear this dialogue', 'CLUB ANNOUNCER', 'FATHER-PRIEST', 'MR. CROSS', 'CABBY', 'MRS. S', 'FRANK', 'JOEL', 'PARK GUY#2', 'NEIGHBOR', 'JERRY, GEORGE, ELAINE', 'JOHN', 'GEORGE AND JERRY', 'GROSSBARD', 'JESSIE', 'KERNIS', 'JERRY (nonplussed)', 'ELAINE (through her teeth)', 'SUPERVISOR', 'SUSAN (to Lena)', 'JERRY (interrupts)', 'WILLIE', 'POSTAL EMPLOYEE', 'SARA', 'ELAINE (smiling)', 'JERRY (dialing)', 'Guy1', 'RACHEL', 'STUDENT 2', 'JERRY\\x92S MESSAGE', '[STOCK FOOTAGE', 'MRS. ROSS', 'WOMAN', 'SAL BASS', 'GEORGE (disappointed)', 'FRED (a little frightened and backing away towards the door)', 'RUSSELL (opening the door)', 'ELAINE', 'KRAMER (to Poppie)', 'CAR SALESMAN', 'RAMON', 'TAPE PLAYER', 'WEST', 'TONY', 'COPS', 'INTERCOM', 'MARTY (to Jerry)', 'FOWLER', 'ELAINE (sitting down)', 'BRUCE (holding a phone)', 'VANESSA', 'POKER PLAYER #1', \"BARNEY'S SALES ASSOCIATE\", '(Jerry gets to his seat, however, he also is in the wrong seat', 'CASHIER (Ruthie Cohen)', 'IZZY JR.', 'ILENE', 'ELAINE (through teeth)', 'SANSEI', 'SLIPPERY PETE (to George)', 'MINKLER', 'HELEN (to Jerry)', 'LANDLORD', 'DRIVER', 'Opening scene', 'DELIVERY BOY', 'TELLER', '[Elaine is still waiting to get into the bathroom-- there\\'s someone in there. *Finally*, a ZZ Top reject comes out of the bathroom and, to paraphrase Jerry in \"The Smelly Car\"', 'OTHER SECURITY GUARD (to George)', 'KRAMER & MICKEY', 'JERRY and GEORGE', 'JERRY (from his bedroom hallway, alluding to the fact that she should get the drink herself)', 'LINDSAY', 'JOHN TYLER', 'PUERTO RICAN MAN', 'WAITRESS #2', 'Ex', 'NURSE', 'USHA', '<IMG SRC=http', '\"SALMAN\"', 'NEWMAN/KRAMER', 'STUDENT 1', 'THOMASSOULO', 'KELLY', 'ELDRIDGE', 'WAITRESS #1', 'COP 2', 'MORTY/HELEN/JERRY', 'MR. GOLDSTEIN', 'MORTY(V.O.)', '(The clock reads 5', \"% The movie has sold out. ``Real good, George. Real good.'' It's now 10\", 'ELAINE (looking in the fridge)', 'ALEC', 'JERRY, GEORGE & ELAINE', 'NEMWAN', 'PEGGY', 'TARTABULL', 'DETECTIVE (V.O.)', 'ANNOUNCER ON P.A. SYSTEM', 'ATTENDANT #2', 'MALE WORKER', 'CAR THIEF', '[Alex Theatre', '(The race is on and Pappanick is slowly making ground. Kramer is pounding himself imitating the jockey and shouts', \"(George takes a hold of Jerry's leg to stress the point and Sharon, who obviously thinks she has a real story here now, asks another question\", 'MOM', 'GENNICE', 'MR REICHMAN', 'DAVOLA', 'ELAINE (to Carl, flirtatiously)', 'BIKER', '(4', '% In the background is the plot complication of the week', 'NOEL', 'TOBY (to Kramer)', 'JERRY, KRAMER & NEWMAN', 'CO-WORKER', 'TARTABULL (wiping sweat from his brow)', 'CONTEST WINNER (to Elaine)', 'JEFF', 'SIMON', 'GARY', '(George looks up and sees Jerry on the other side and frisbee on the other. Jerry says', 'PAT', 'LADY 1', 'MRS. O', 'MARCELINO (leaving)', 'OLD WOMAN', 'CLICKY', 'JERRY (smiling)', 'WAITRESS ', 'RONNIE', 'KRAMER (to Karen)', 'SETH & JERRY', 'TALL GIRL', 'DENISE', 'WILLIAMS', \"ELAINE (tries to snatch food off a waiter's tray)\", 'GWEN', '(A moment later, the clock flips to 5', 'Elaine (answering)', 'PETERMAN', 'JIM', 'JERRY (not happy)', 'KURT (laughs)', 'SUSIE', 'SUE ELLEN', 'JERRY (exasperated)', 'PLAYER', 'COMPUTER VOICE', '(They start to \"sing\", growing more excited after each iteration', 'JERRY (to Lena)', 'ALL (EXCEPT MORTY)', 'PAULA', \"JERRY'S MACHINE\", 'MARCELLINO', 'CELIA', 'THE GIRLS', 'GEORGE (to clerk)', 'DENTIST', 'MRS. SOKOL', 'GEORGE (singing)', \"[On the bright side, Kramer and George arrive at the airport. They're running to the terminal\", 'JERRY (V.O)', 'NEWMAN (whispers through the bookcase)', \"[Back at Jerry's apartment\", 'SHOWALTER (considering)', 'FRIEND', 'KRAMER (lunging for Little Jerry)', 'RESTAURANT MANAGER (BRUCE)', 'WILHELM', 'ELAINE (throws the script at Jerry)', \"MONK'S MANAGER\", 'BUILDING B', 'BRETT', 'MOLLY', 'VINCENT', 'TRUCK DRIVER', 'LADY', 'OTHER CO-WORKERS IN HALLWAY', 'MRS. PAYTON', 'ZACH', 'JOE DIVOLA', 'GEORGE (from the bathroom)', 'KRAMER and JERRY (together)', 'JERRY (looking in a drawer)', 'GEORGE (shakes huge keyring)', 'CREW LEADER', 'MODEL #3', 'MRS. SANGER', 'MRS HAMILTON', \"KRAMER (in a chef's hat and apron)\", 'Jerry and GEORGE', 'DETECTIVE #1 (to Kurt)', 'BANK EMPLOYEE', 'GEORGE (looks at his watch)', 'MILOS', 'TEDDY', 'JERRY (slowly)', 'GREG (looks at his watch)', 'LANETTE', 'KRAMER (a la Ratso Rizzo in Midnight Cowboy)', 'CHIROPRACTOR', 'LESLIE', 'JERRY (to Kevin)', 'Police officer', 'VENDER', 'BOYFRIEND', 'FARMER', 'Announcer', 'GEORGE/JERRY/ELAINE/WENDY', 'JERRY (low voice)', 'MEL', 'WOMAN #2', 'SISTER ROBERTA', 'KEVIN', 'NANCY', 'JERRY (frantic)', 'ElainELAINE', 'FURNITURE GUY', 'SUSAN (laughing)', 'JERRY (thinks)', 'PASSENGER #2', \"JERRY (leaving a message on Elaine's machine)\", '[Limo driving on the street -- then inside the limo', 'JEANINE', 'SIDRA (sits across from Elaine and takes her towel off)', 'MRS. COSTANZA', 'REFEREE', 'RUSSEL', 'BOOKIE', 'ECHO', 'JOHN (V.O.)', 'KRISTIN', 'UNCLE LEO (to Meryl)', 'JERRY\\x92S OUTGOING MESSAGE', 'AARON & HELEN', 'THE DRAKE', '(Newman goes to the back room with the muffin stumps and sets down a cooler and an empty glass. From the cooler he takes out 4 bottles of milk and sets them down. He bites into a stump, then takes a drink of milk from the glass. (continuity error', 'CHRISTIE', 'ANGRY MAN', 'GEORGE (O.C.)', 'KRAMER (getting up)', 'GEORGE (on intercom)', 'TAPE RECORDER', 'KRAMER/NEWMAN', 'GIGGIO', 'GEORGE/SUSAN', 'ELAINE (fed up)', 'HELEN & AARON', 'TOBY (standing)', 'SUNNY', 'PATRICE', '(She turns the radio on loud (Foghat', 'MAN ON RAFT', 'CLERK (checking the computer)', 'DOG OWNER', 'BUILDING A', 'ELAINE (grabs the papers from Jerry)', 'EALINE', 'GEORGE (lazily swinging the garbage bag around)', 'CLYDE', 'GEORGE (from backstage)', 'REPAIRMAN', 'ELAIEN', 'Published', 'JERRY (shudders)', 'KID #2', 'GEORGE WENDT (checking his watch, obviously uncomfortable)', 'ELAINE & PUDDY', 'JUDGE', 'ADAM', 'IZZY', 'JERRY (to Meryl)', 'PITT', 'MR OH (O.C.)', 'TIMMY', 'KATYA', 'PAULA (hands over the clothes)', 'WOMAN IN THE CROWD', 'ANTONIO', 'WILKIE', 'Elaine', 'CO-WORKER #1', 'Voice', 'MS. BAINES', 'MR ROSS', 'MONTAGE', 'RICK', 'LAURA & JERRY', 'RESIDENT', 'TABACHNICK', 'WYCK', 'ELAINE (puzzled)', 'MR. ROSS', 'JERRY (toasts with his orange juice)', 'JACK', 'SANDY', 'CHELSEA', 'MARCY', \"RUSSELL (still not noticing Elaine's cleavage)\", 'IZZY IZZY SR.. (O.C.)', 'MORGANEWMAN', 'ANNOUNCER', 'DELIVERY MAN', 'SLIPPERT PETE', 'OLD WOMAN (O.C.)', 'BONNIE', 'BOB', 'ALEX TREBEK', 'ELAINE (in a dreadful tone)', 'GEORGE (to Elaine)', 'DOORMAN 2', 'GUILLERMO', 'CHAIRMAN', 'GIRLFRIEND', 'JENNY', 'Dx', 'RONNIE (points his water gun at the bartender)', \"We see the title 'Jerry', then, sitting at the comedy club, we see\", 'PREGNANT WOMAN', '(Another car passes', 'ELAINE (whispering)', 'JERRY (still trying to remember)', 'MISHA', 'MOHEL', 'WOMAN 2', 'FDR', 'FATHER JESSUP', 'BRIDGET', 'ELAINE (standing up)', 'ROBBER', 'EVERYONE', 'BRUCE (laughing)', 'MERYL (looking in the drawer)', 'ALLSION', 'COUNTERPERSON', 'ELAINE & JERRY', 'MS. DE GRANMONT', 'KATHY LEE', 'TVVOICE', 'ELAINE (examining the socks)', 'NEWMAN (startling them)', 'GEORGE (defensive)', 'ELAINE (warns)', 'TARA', 'MRS ALLISTER', 'KATE', 'JERRY (shrugs)', '(*Farina', 'Elaine, becoming board', 'MS. JORDAN', 'JERRY (catches Elaine)', 'ELAINE & GEORGE', 'ADA', 'AARON', 'MRS REICHMAN', 'ANNOUNCER #1', 'HAROLD', 'GUESTS, JERRY & ELAINE', 'JULIANNA (visibly uncomfortable)', 'MR OH', 'ELAINE (leaning forward)', 'GEORGE (on a pay phone)', 'Tina', 'RICKEY', 'JEAN-PAUL', 'GREG', '% Misunderstanding number one', 'VANDELAY', 'JERRY (to Karen)', 'MARISA', 'PASSENGER', 'PUDDY', \"(The episode opens with a series of clips from 'The Pitch', 'The Ticket' and 'TheWallet', illustrating the story so far. A rough precis would be\", 'TAMMY', 'AGENT', 'CHARMAINE', \"MERYL (throws Paula's clothes at Jerry)\", 'BETSY (sweetly)', 'GEORGE & ELAINE', 'JETER', 'OLD GUY', 'THUG', 'RULA', 'STORE MANAGER', 'VET', '(Through the phone', 'UNCLE LEO (shocked)', 'GEOGE', 'BOTH', 'JERRY and ELAINE, together', 'MANYA', 'KRAMER (moves over and sits next to George)', 'BETSY (to Aunt May)', 'CASTRO', 'GEORGE (angrily)', 'RESTAURATEUR', 'JERRY (rolls his eyes)', 'MAN#3', 'MIKE', 'WALKER #1', 'SYLVIA', 'DRY CLEANER', 'PRISONER 1', 'FIREMAN', 'KURT (to Elaine)', 'Huckleberry', 'ROCHELLE', 'LUPE', \"(Fade to the next morning, the alarm clock goes off, it's 5\", 'J. PETERMAN', \"[Jerry's apartment, Jerry and Elaine. Jerry is looking Dream cafe with binoculars. There's a sign on the window\", 'JERRY (irritated)', 'Sari / Saree', 'ELAINE (on the witness stand)', 'TV NEWSCASTER', 'MISS RHODE ISLAND', 'JERRY (offers a hot dog to Miss Rhode Island)', 'MERYL', 'RUSSELL (coming out of the bathroom)', '(Jerry and TV Elaine', 'HELEN & MORTY', 'MAN AT THE COUNTER', \"GEORGE (clears his throat, annoyed that the movie's being interrupted)\", 'VOICE ON SPEAKER', 'PHONE MAN', 'PETER', \"[George's Car\", 'HOTEL CLERK', 'FRANK (yelling)', 'PAM', 'REILLY', 'MCADAM', 'TESTIKOV', 'GEORGE (V.O.)', 'RAY', 'AVA', 'GREG (to Elaine)', 'JOEY', 'MRS. ANVINO', 'PING', '(A woman rushes in and shouts', \"(We see Kramer, groaning and holding his stomach, running down the hall, and opening the bathroom's door. Someone in there says\", 'OLD MAN #2', 'MAN IN CAR', 'JERRY (to waitress)', 'FLORIST', 'JERRY AND ELAINE', 'PASSENGER #3', 'GINA', 'GERMAN WOMAN', 'ELAINE (happily)', 'STU', 'DICK', 'ELAINE (gushing)', 'JERRY (mesmerized)', 'DR. BURKE', 'NEWSSTAND OWNER', 'EVERYBODY', '[Outside Kramer\\x92s apartment door', 'CO-WORKER #2', 'WIFE', 'DOCTOR (O.C.)', 'NAOMI', \"(Jerry's doing his stand-up routine at a comedy club. There's the music theme and we don't hear what he is saying, but the closed captions put that\", 'JERRY (yelling from his room)', 'NEWMAN & KRAMER', 'ALL (chanting)', 'BLIND VIOLIN PLAYER', 'NEWMAN (frantic)', 'LYLE', 'JERRY (picks up the phone)', 'Elaine + JERRY', 'TIA', 'WOMAN AT NEXT TABLE (to her date)', 'KRAMER (picking up the wrapper)', '(Camera shot at the clock on his wall. The clock says 9', 'HELEN', 'KRAMER (stuffing tissue up his nose)', 'TOUGH GUY (threatingly)', 'HELEN (in Florida with Morty)', 'MARCELINO', '[Exterior long shot', \"(Elaine and Ed are in bed. Elaine awakes to find out that it's 9\", 'STELLA', 'IPSWITCH', 'JANICE', 'ELAINE/JERRY', 'JERRY (signing)', 'BOBBY', 'KEN', 'PAUL', 'DARREN', 'BETTE', 'LISI', 'GIULIANI', \"ELAINE (pulling up Pitt's socks)\", 'KEITH', 'ESTELLE (crying)', 'JERRY (hesitant)', 'ISABEL', 'VOICE 2 (O.C.)', 'JERRY (sarcastically)', 'JERRY (answering phone)', 'LEO (O.C.)', 'CARRIE', 'ANNOUNCER #2', 'NIKKI', 'ELAINE (offended)', 'DR. BAKERSOLL', 'DOLORES', 'ELAINE (wearily)', 'DEVOLA', 'MAN1', 'GUY', 'NAKED MAN', 'ROXANNE', 'LOU', 'CAB DRIVER', 'PARAMEDIC', 'JUDY', 'JERRY (takes out his wallet)', 'JERRY (to Elaine)', '[CUT TO', 'JERRY (picks up a yellow M&M toy from the model)', 'TV ELAINE', 'JAKE', 'DISPATCHER', 'DAVID', 'MANNY', 'JULIE', '(ELAINE finally notices them, but suddenly from the other direction, three other guys are coming', 'BUZZER', 'KURT (from the bedroom)', 'KRAMER (to Elaine)', 'MAN 2', 'PENSKY', 'AGENCY REP', 'ELAINE (imitating Toby)', 'MAN #2 ', 'DR. RESTON', 'SUSAN AND ALLSION', 'MARCELINO (tosses the gum on the counter)', 'JEANNIE', 'MR BURNS', 'ARTIE', 'SALES WOMAN', 'VIVIAN', 'ICE CREAM VENDER #2', 'DANIELLE', 'RUSSELL (to Jerry and George)', 'SID', 'MOONEY', 'JIMMY', 'LASER GUY', 'ELAINE (stretches)', 'WOMANEWMAN', 'GIRL', 'MARGARET', 'GEORGE (looking over)', '% From his pocket, Kramer digs into his treasured Papaya King hot dog. Then discovers the source of his discomfort', 'SHLOMO', 'JERRY (from outside the door)', 'TEL', 'LARRY', 'MR. SANGER', 'Women', 'JERRY and KRAMER', 'PARRY', 'PATTI', 'ADE', 'POSTAL WORKER DANNY', '(a few minutes later, the ceremony is about to begin. Someone in the crowd yells', 'AUNT MAY', 'KRAMER (holds up his hand)', 'SKYCAP', 'STEINBRENNER', 'DOCTOR', 'HOLE DIGGER', 'MR. S', 'BUILDING C', 'STAN', \"LENA (smells Jerry's arm)\", 'DIANE', 'EXECUTIVE 1', 'ELAINE (deaf)', 'MARTY (to Meryl)', 'ELAINE & RAY', '[GEORGE', 'WOMAN #1', 'BOUNCER', 'LAMAR', 'MR. PITT', 'PITT (looking at Elaine and smiling)', 'I think the thing I admire most about the Chinese is that they\\'re hanging in there with the chopsticks. Because, if you think about it, you know, they\\'ve seen the fork... by now. I\\'m sure they\\'ve seen the spoon, they\\'re going, \"Yeah, yeah, they\\'re OK... We\\'re going to stay with the sticks.\" I mean, I don\\'t know how they\\'ve missed it', 'JERRY and NEWMAN', 'KRAMER (in disgust)', 'ELAINE (smug)', 'DUNCAN & JERRY', 'EDDIE', 'MR. COHEN', 'ARNIE', 'ELAINE AND PUDDY', 'ELAINE (Gives him the money)', 'ATTENDANT #1', 'ICE CREAM VENDER #1', 'DANA', 'JERRY (applauding)', 'HIGH PITCHED VOICE', 'GX', 'FRED SAVAGE', 'JERRY (holds up the syrup bottle)', 'GARDNER', 'JERRY (excited)', '2nd MOVIE PATRON', 'WHATLEY', 'GAS STATION ATTENDANT', '[Subway train', 'CARL (off-camera)', 'OWNER (points at the bottle of maple syrup)', 'HOUSEKEEPER', 'ELAINE (thinking to herself)', 'NINA', 'PARTY GUEST', 'ELAINE (surprised)', 'PRIEST', 'Sung by', \"[monk's\", 'RAYMOND', 'KRAMER (panting)', 'LOW-TALKER', 'LEADER', 'PHARMACIST', 'JULIANNA', 'MACKENZIE', 'NEWMAN (getting an idea)', 'CALVIN KLEIN', 'ELAINE (mouths the words)', 'MABEL', 'NICK (O.C.)', 'BLIND MAN', 'GAURD', 'MARY', 'APPLICANT', 'OTHER-WALTER', 'ELAINE (laughing)', '** Pies - Just in case you did not know what these two kinds of pies are', 'DELIVERY GUY', 'Woman Behind ELAINE', 'ELAINE (nodding)', 'GEORGE (to himself)', 'JERRY (looks at his watch)', 'OLD MAN #3', 'RUSSELL (to Jerry and George, reconsidering about the pilot)', 'TAN', 'CABBIE', 'MANYA ', 'IZZY/IZZY JR/IZZY IZZY SR.', '*Note', 'KRAMER (sternly)', 'JANET', 'GEORGE (meekly)', 'KRAMER & GEORGE', 'NEWMAN (coyly)', 'MYRA', 'SUSAN (O.C.)', 'MR. PITT (to Elaine, excited)', 'WOMAN AT BEACH', 'JERRY (giving in)', 'MR OH (O.C)', 'PARK GUY#1', 'GEORGE (loading up his plate with sandwiches)', 'GEORGE (giddy)', 'GEORGE (to Jerry)', \"[As they struggle to force the Junior Mint on each other, Jerry pushes Kramers' hand away and -- in slow motion with the sound of a beating heart to emphasize the event -- The Junior Mint is launched into the air towards the operating table and, well, in a word\", 'NEWMANEWMAN', 'LELAND', 'ELAINE (enunciating clearly so George gets the point)', 'Dedication', 'OLD MAN', 'LEO', '(The clock reads 3', '[Street Outside Alex', 'JERRY (under his breath, to a man at the party)', 'KRUGER', 'JERRY (points at the Power Ranger)', 'TOBY (exuberantly)', 'Bruce (laughing)', 'MR. THOMASSOULO', 'ELAINE (to Kramer)', '[Witness', 'Scene', 'KRAMER (wipes chocolate off his face)', 'ELAINE (nudges George with her elbow)', 'LENA', 'VARGUS', 'SANDI', 'GEORGE (Counting on his fingers)', 'BUDDY', 'LORRAINE (shaking her hand)', 'ELLEN', 'KRAMER (O.C.)', 'MIRANDA', 'LADY 2', 'GUARD', \"I always get confused in the movie theater by the, by the plot. It's embarrassing. It's an embarrassment to have to admit, but I'm the one that you see in the parking lot after the movie talking with his friends, going\", 'WOMAN 1', 'ELAINE (with little hope)', 'BOSS', 'KRAMER (mouths the words)', 'GEORGE (O.S.)', 'JACKIE (speaking to the intercom)', 'CLERK (to Kramer)', 'KIMBROUGH', '[Setting', 'TODD', 'GEORGE (mocking Jerry)', 'GEORGE, ELAINE, KRAMER, JERRY, & STAN', 'ENZO', \"[Jenna's Apartment\", 'KEN (O.C.)', 'KRAMER ', 'TICKET LADY', 'GEORGE (to guy)', 'ERIC', 'MR. GRAHAM', 'DEPUTY', 'BEN', 'MICHAEL', 'ZEKE', \"JOE'S WIFE\", 'ELAINE (thinking)', '[Background cars', 'KRAMER + JERRY', 'ELAINE (to a woman at the fight)', 'THERAPIST', 'TOBY', 'BOOKMAN (emerging)', 'MAN IN THE CROWD', 'GEPETTO', 'KOREN (O.C.)', '[Movie Theater', '% A night at the Improv. Jerry receives some disturbing news from the manager', 'JERRY (angrily)', 'SASHA', 'MARTIN', 'ALL', 'SPONSER', 'SECURITY GUARD', 'NEWMAN (to Elaine)', 'ELAINE (beaming)', 'GEORGE (irritated)', 'ELIANE', 'JODI', 'MRS. SWEEDLER'}\n"
     ]
    }
   ],
   "source": [
    "import csv\n",
    "import numpy as np\n",
    "with open(\"/Users/Kianamon/Dropbox/DSCI511/Assignments/assignment-1/data/scripts.csv\", \"r\") as f:\n",
    "    reader = csv.reader(f)\n",
    "    content2 = list(reader)\n",
    "characters = [i[1] for i in content2]\n",
    "unique_characters = set(characters)\n",
    "#print(len(unique_characters))\n",
    "#print(unique_characters)"
   ]
  },
  {
   "cell_type": "markdown",
   "metadata": {},
   "source": [
    "__A4.__ Count the dialogue entries for the four major characters, \"JERRY\", \"GEORGE\", \"ELAINE\", and \"KRAMER\", using a dictionary (you are not allowed to use the Counter data structure for any component of this problem). (2 points) "
   ]
  },
  {
   "cell_type": "code",
   "execution_count": null,
   "metadata": {},
   "outputs": [],
   "source": []
  },
  {
   "cell_type": "markdown",
   "metadata": {},
   "source": [
    "__A5.__ Count the number of words spoken by each of the main characters using a dictionary. (3 points)"
   ]
  },
  {
   "cell_type": "code",
   "execution_count": null,
   "metadata": {},
   "outputs": [],
   "source": []
  },
  {
   "cell_type": "markdown",
   "metadata": {},
   "source": [
    "__A6.__ Count how many times each word is spoken by the main characters using a dictionary, then sort these word counts in descending order, i.e. from the most commonly spoken words to least. [__Hint__: You can use either a lambda function or a list comprehension to do this.] (5 points)"
   ]
  },
  {
   "cell_type": "code",
   "execution_count": null,
   "metadata": {},
   "outputs": [],
   "source": []
  },
  {
   "cell_type": "markdown",
   "metadata": {},
   "source": [
    "__A7.__ Load the `data/stop-words.txt` file into a list. Find the 10 most common words for each of the main characters that are not in this list of stop words. Put these most common words in a dictionary data strucutre. (5 points)"
   ]
  },
  {
   "cell_type": "code",
   "execution_count": null,
   "metadata": {},
   "outputs": [],
   "source": []
  },
  {
   "cell_type": "markdown",
   "metadata": {},
   "source": [
    "## Problem B (25 points)\n",
    "\n",
    "__B1.__ You will be using part of the [Goodbooks 10k dataset](https://github.com/zygmuntz/goodbooks-10k) for this problem. Read the `data/goodreads-books.csv` file into a list. Create a dictionary for each book in the list that contains these fields: authors, original title, original publication year, average rating, and ratings count. (You should convert average rating and ratings count into `float` and `int` types.) Put all these metadata dictionaries into a list. (5 points)"
   ]
  },
  {
   "cell_type": "code",
   "execution_count": 58,
   "metadata": {},
   "outputs": [],
   "source": [
    "with open(\"/Users/Kianamon/Dropbox/DSCI511/Assignments/assignment-1/data/goodreads-books.csv\", \"r\") as f:\n",
    "    reader = csv.reader(f)\n",
    "    books = list(reader)"
   ]
  },
  {
   "cell_type": "markdown",
   "metadata": {},
   "source": [
    "__B2.__ Write a function to sort this list of book metadata in descending order of average rating. The function should take the list of metadata dictionaries as an input argument. (5 points)"
   ]
  },
  {
   "cell_type": "code",
   "execution_count": null,
   "metadata": {},
   "outputs": [],
   "source": []
  },
  {
   "cell_type": "markdown",
   "metadata": {},
   "source": [
    "__B3.__ Update the function to take two arguments: the list, and an integer value for minimum ratings count. The function should now sort _and_ filter the list, returning a list of books sorted by average rating that have been rated by more than a specified number of users. You can use three different approaches: loops, comprehensions, and the built-in `filter()` function (look up documentation and examples). (10 points)"
   ]
  },
  {
   "cell_type": "code",
   "execution_count": null,
   "metadata": {},
   "outputs": [],
   "source": []
  },
  {
   "cell_type": "markdown",
   "metadata": {},
   "source": [
    "__Bonus:__ Use all three approaches to write three different versions of the function. See if you can condense your code into a single line for some of the approaches! (10 points)"
   ]
  },
  {
   "cell_type": "code",
   "execution_count": null,
   "metadata": {},
   "outputs": [],
   "source": []
  },
  {
   "cell_type": "markdown",
   "metadata": {},
   "source": [
    "__B3.__ Why is using a function for this task prudent? What do you think is an acceptable minimum ratings count? (5 points)"
   ]
  },
  {
   "cell_type": "markdown",
   "metadata": {},
   "source": []
  },
  {
   "cell_type": "markdown",
   "metadata": {},
   "source": [
    "## Problem C (50 points)\n",
    "\n",
    "This problem deals with finding \"pangrams\" in text. A pangram is a sentence containing all 26 letters of the alphabet. `x` and `y` in the cell below are example sentences, `x` is a pangram, `y` is not."
   ]
  },
  {
   "cell_type": "code",
   "execution_count": 1,
   "metadata": {},
   "outputs": [],
   "source": [
    "x = \"Jim quickly realized that the beautiful gowns are expensive.\"\n",
    "y = \"This sentence is most certainly not a pangram.\""
   ]
  },
  {
   "cell_type": "markdown",
   "metadata": {},
   "source": [
    "__C1.__ Define a generator function, `indices()`, that takes a string as input and outputs the index numbers where a letter occurs for the first time in the string. [__Hint:__ you can compare letters like numbers. For example, `char >= \"a\"` is a valid conditional statement. You can use this to check whether characters in a string are letters.] (5 points)"
   ]
  },
  {
   "cell_type": "code",
   "execution_count": null,
   "metadata": {},
   "outputs": [],
   "source": []
  },
  {
   "cell_type": "markdown",
   "metadata": {},
   "source": [
    "__C2.__ Define a function, `verify()`, that takes a string as input and uses the `indices()` function to check if the string is a pangram. The output should be boolean `True` or `False`. (5 points)"
   ]
  },
  {
   "cell_type": "code",
   "execution_count": null,
   "metadata": {},
   "outputs": [],
   "source": []
  },
  {
   "cell_type": "markdown",
   "metadata": {},
   "source": [
    "__C3:__ Write a version of `verify()` named `tiny_verify()` that performs the check in a single line of code, without using `indices()`. [__Hint:__ Use a comprehension.] (5 points)"
   ]
  },
  {
   "cell_type": "code",
   "execution_count": null,
   "metadata": {},
   "outputs": [],
   "source": []
  },
  {
   "cell_type": "markdown",
   "metadata": {},
   "source": [
    "__C4.__ Modify the `verify()` function to figure out which letters (if any) are missing from a purported pangram. This version should return the list of missing letters instead of a boolean value. [__Hint:__ You can get a string containing all the letters of the alphabet by importing `ascii_lowercase` from the `string` module.] (5 points)"
   ]
  },
  {
   "cell_type": "code",
   "execution_count": null,
   "metadata": {},
   "outputs": [],
   "source": []
  },
  {
   "cell_type": "markdown",
   "metadata": {},
   "source": [
    "__C5.__ Load and iterated through the collected [list of pangrams](http://clagnut.com/blog/2380/) in `data/pangrams.txt` line by line and determine if they are actually pangrams. Print out any lines that are not actually pangrams, and also the letters that are missing. (5 points)"
   ]
  },
  {
   "cell_type": "code",
   "execution_count": null,
   "metadata": {},
   "outputs": [],
   "source": []
  },
  {
   "cell_type": "markdown",
   "metadata": {},
   "source": [
    "__C6:__ Use the output from the `verify()` function to fix the failed pangrams, and verify that you have fixed them. (5 points) "
   ]
  },
  {
   "cell_type": "code",
   "execution_count": null,
   "metadata": {},
   "outputs": [],
   "source": []
  },
  {
   "cell_type": "markdown",
   "metadata": {},
   "source": [
    "__C7.__ In the cell below are provided some information about a set of books. Create a data object that holds the book numbers and titles associated to each authors's name. Write this out as a JSON file in the `data/books/` directory using the following schema. (5 points)\n",
    "\n",
    "`\n",
    "books = {\n",
    "    AuthorName: {\n",
    "        BookNumber: BookTitle,\n",
    "        ...\n",
    "    },\n",
    "    ...\n",
    "}\n",
    "`"
   ]
  },
  {
   "cell_type": "code",
   "execution_count": 2,
   "metadata": {},
   "outputs": [],
   "source": [
    "# 84.txt; Frankenstein, or the Modern Prometheus; Mary Wollstonecraft (Godwin) Shelley\n",
    "# 98.txt; A Tale of Two Cities; Charles Dickens \n",
    "# 161.txt; Sense and Sensibility; Jane Austen\n",
    "# 730.txt; Oliver Twist or the Parish Boy's Progress; Charles Dickens\n",
    "# 768.txt; Wuthering Heights; Emily Brontë\n",
    "# 1322.txt; Leaves of Grass; Walt Whitman\n",
    "# 1342.txt; Pride and Prejudice; Jane Austen\n",
    "# 1400.txt; Great Expectations; Charles Dickens\n",
    "# 2701.txt; Moby Dick; or the Whale; Herman Melville\n",
    "# 4300.txt; Ulysses; James Joyce"
   ]
  },
  {
   "cell_type": "code",
   "execution_count": null,
   "metadata": {},
   "outputs": [],
   "source": []
  },
  {
   "cell_type": "markdown",
   "metadata": {},
   "source": [
    "__C8.__ Write a function, `get_pangrams()`, that takes a book number and outputs a list of the book's pangram sentences and the total number of sentences in the book. You will need to use the `re` (regular expressions) module to split the book text into sentences using the `re.split(pattern, string)` function. The pattern you will need is `\"[\\.\\?\\!][^a-zA-Z]\"`. (5 points)"
   ]
  },
  {
   "cell_type": "code",
   "execution_count": null,
   "metadata": {},
   "outputs": [],
   "source": []
  },
  {
   "cell_type": "markdown",
   "metadata": {},
   "source": [
    "__C9.__ Determine who is the pangrammiest author and what the pangrammiest book is, as determined by pangrams per sentence. [__Hint:__ Use `defaultdict`s to create \"pangrams by author\" and \"pangrams by book\" objects.] (10 points)"
   ]
  },
  {
   "cell_type": "code",
   "execution_count": null,
   "metadata": {},
   "outputs": [],
   "source": []
  },
  {
   "cell_type": "markdown",
   "metadata": {},
   "source": [
    "__Bonus:__ Print out the most efficient pangram and its author and book, as determined by fewest characters. (5 points)"
   ]
  },
  {
   "cell_type": "code",
   "execution_count": null,
   "metadata": {},
   "outputs": [],
   "source": []
  }
 ],
 "metadata": {
  "kernelspec": {
   "display_name": "Python 3",
   "language": "python",
   "name": "python3"
  },
  "language_info": {
   "codemirror_mode": {
    "name": "ipython",
    "version": 3
   },
   "file_extension": ".py",
   "mimetype": "text/x-python",
   "name": "python",
   "nbconvert_exporter": "python",
   "pygments_lexer": "ipython3",
   "version": "3.6.5"
  }
 },
 "nbformat": 4,
 "nbformat_minor": 2
}
